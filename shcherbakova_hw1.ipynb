{
  "nbformat": 4,
  "nbformat_minor": 0,
  "metadata": {
    "kernelspec": {
      "display_name": "Python 3",
      "language": "python",
      "name": "python3"
    },
    "language_info": {
      "codemirror_mode": {
        "name": "ipython",
        "version": 3
      },
      "file_extension": ".py",
      "mimetype": "text/x-python",
      "name": "python",
      "nbconvert_exporter": "python",
      "pygments_lexer": "ipython3",
      "version": "3.6.9"
    },
    "colab": {
      "name": "shcherbakova_hw1.ipynb",
      "provenance": [],
      "include_colab_link": true
    }
  },
  "cells": [
    {
      "cell_type": "markdown",
      "metadata": {
        "id": "view-in-github",
        "colab_type": "text"
      },
      "source": [
        "<a href=\"https://colab.research.google.com/github/valshch/cvr_course/blob/develop/shcherbakova_hw1.ipynb\" target=\"_parent\"><img src=\"https://colab.research.google.com/assets/colab-badge.svg\" alt=\"Open In Colab\"/></a>"
      ]
    },
    {
      "cell_type": "markdown",
      "metadata": {
        "id": "8TSqk-flT-HK"
      },
      "source": [
        "# Домашнее задание\n",
        "Домашнее задание выполнять в этой тетрадке. \n",
        "\n",
        "- [ ] Сделать fork репозитория cvr_cource (https://github.com/StarkitRobots/cvr_course) - 1 балл\n",
        "- [ ] Создать ветку update_readme - 1 балл\n",
        "- [ ] Добавить одну строчку в README.md \n",
        "- [ ] Запушить (git push) изменения в ветку update_readme - 3 балла\n",
        "- [ ] Слить (merge) ветку update_readme в ветку develop - 1 балл\n",
        "- [ ] Сохранить эту тетрадку с выполненной домашкой себе в репозиторий в ветку develop - 3 балла\n",
        "- [ ] Слить (merge) ветку develop в ветку main - 1 балл"
      ]
    },
    {
      "cell_type": "markdown",
      "metadata": {
        "id": "rCFH63U-T-HO"
      },
      "source": [
        "Материалы к семинару:\n",
        "1. [Удачная модель ветвления](https://m.habr.com/ru/post/106912/)\n",
        "2. [Зачем нужен Git](https://guides.hexlet.io/git-guide/)\n",
        "3. [Самые популярные ошибки и их решения](https://tproger.ru/translations/most-common-git-screwupsquestions-and-solutions/)\n",
        "4. [Ветвление](https://git-scm.com/book/ru/v2/%D0%92%D0%B5%D1%82%D0%B2%D0%BB%D0%B5%D0%BD%D0%B8%D0%B5-%D0%B2-Git-%D0%9E-%D0%B2%D0%B5%D1%82%D0%B2%D0%BB%D0%B5%D0%BD%D0%B8%D0%B8-%D0%B2-%D0%B4%D0%B2%D1%83%D1%85-%D1%81%D0%BB%D0%BE%D0%B2%D0%B0%D1%85)\n",
        "5. [Инструкция по всему Git](https://git-scm.com/book/ru/v2)\n",
        "6. [Приложение для обучения Git](https://learngitbranching.js.org/?locale=ru_RU), спасибо Анне Касаткиной за ссылку на отличный материал"
      ]
    },
    {
      "cell_type": "code",
      "metadata": {
        "id": "yc7SApDAT-HS"
      },
      "source": [
        "!git config --global user.email \"shherbakova.vs@phystech.edu\"\n",
        "!git config --global user.name \"Shcherbakova Valeriia\""
      ],
      "execution_count": 11,
      "outputs": []
    },
    {
      "cell_type": "code",
      "metadata": {
        "id": "IbxGWYJTYpUF",
        "outputId": "35e16554-cf07-405e-c311-c19da7c6de1e",
        "colab": {
          "base_uri": "https://localhost:8080/",
          "height": 34
        }
      },
      "source": [
        "!git clone https://github.com/valshch/cvr_course.git"
      ],
      "execution_count": 7,
      "outputs": [
        {
          "output_type": "stream",
          "text": [
            "fatal: destination path 'cvr_course' already exists and is not an empty directory.\n"
          ],
          "name": "stdout"
        }
      ]
    },
    {
      "cell_type": "code",
      "metadata": {
        "id": "xlkIMHszUnyS",
        "outputId": "0442aa69-8f5a-4a66-eebc-bd84ca693367",
        "colab": {
          "base_uri": "https://localhost:8080/",
          "height": 34
        }
      },
      "source": [
        "!ls"
      ],
      "execution_count": 12,
      "outputs": [
        {
          "output_type": "stream",
          "text": [
            "cvr_course  sample_data\n"
          ],
          "name": "stdout"
        }
      ]
    },
    {
      "cell_type": "code",
      "metadata": {
        "id": "Up5JVDHiUuST",
        "outputId": "ec2edf9b-8b98-4305-9c0d-7a35c8b77eed",
        "colab": {
          "base_uri": "https://localhost:8080/",
          "height": 34
        }
      },
      "source": [
        "cd cvr_course"
      ],
      "execution_count": 17,
      "outputs": [
        {
          "output_type": "stream",
          "text": [
            "/content/cvr_course\n"
          ],
          "name": "stdout"
        }
      ]
    },
    {
      "cell_type": "code",
      "metadata": {
        "id": "ka4YEodEedD2",
        "outputId": "9320708c-ecd9-4f7f-f1fa-99bbe5d2a66a",
        "colab": {
          "base_uri": "https://localhost:8080/",
          "height": 34
        }
      },
      "source": [
        "!ls "
      ],
      "execution_count": 18,
      "outputs": [
        {
          "output_type": "stream",
          "text": [
            "data  notebooks  README.md\n"
          ],
          "name": "stdout"
        }
      ]
    },
    {
      "cell_type": "code",
      "metadata": {
        "id": "ydt128dDfKiE"
      },
      "source": [
        "!git branch update_readme"
      ],
      "execution_count": 19,
      "outputs": []
    },
    {
      "cell_type": "code",
      "metadata": {
        "id": "CxAAoUAdgih2",
        "outputId": "c6ba482f-4dc0-4212-c6f3-e22196922c5e",
        "colab": {
          "base_uri": "https://localhost:8080/",
          "height": 34
        }
      },
      "source": [
        "!git checkout update_readme"
      ],
      "execution_count": 21,
      "outputs": [
        {
          "output_type": "stream",
          "text": [
            "Switched to branch 'update_readme'\n"
          ],
          "name": "stdout"
        }
      ]
    },
    {
      "cell_type": "code",
      "metadata": {
        "id": "4XSMGrzfgqdV",
        "outputId": "9d34f12a-f077-4e05-9d17-65d978a08049",
        "colab": {
          "base_uri": "https://localhost:8080/",
          "height": 52
        }
      },
      "source": [
        "!git status"
      ],
      "execution_count": 22,
      "outputs": [
        {
          "output_type": "stream",
          "text": [
            "On branch update_readme\n",
            "nothing to commit, working tree clean\n"
          ],
          "name": "stdout"
        }
      ]
    },
    {
      "cell_type": "code",
      "metadata": {
        "id": "8JMJ-DNUg169"
      },
      "source": [
        "!echo \"new line\" >> README.md"
      ],
      "execution_count": 23,
      "outputs": []
    },
    {
      "cell_type": "code",
      "metadata": {
        "id": "oAvTKttzg6gj",
        "outputId": "8ae01c6b-c04b-478c-8ae3-b6665246b136",
        "colab": {
          "base_uri": "https://localhost:8080/",
          "height": 156
        }
      },
      "source": [
        "!git status"
      ],
      "execution_count": 24,
      "outputs": [
        {
          "output_type": "stream",
          "text": [
            "On branch update_readme\n",
            "Changes not staged for commit:\n",
            "  (use \"git add <file>...\" to update what will be committed)\n",
            "  (use \"git checkout -- <file>...\" to discard changes in working directory)\n",
            "\n",
            "\t\u001b[31mmodified:   README.md\u001b[m\n",
            "\n",
            "no changes added to commit (use \"git add\" and/or \"git commit -a\")\n"
          ],
          "name": "stdout"
        }
      ]
    },
    {
      "cell_type": "code",
      "metadata": {
        "id": "6jY6tRjWg8xi",
        "outputId": "97c54dd3-a58b-4bfd-e0d4-5023b2da87d4",
        "colab": {
          "base_uri": "https://localhost:8080/",
          "height": 260
        }
      },
      "source": [
        "!git add README.md\n",
        "!git commit -m \"Update README.md\"\n",
        "!git push origin-psk2 update_readme"
      ],
      "execution_count": 39,
      "outputs": [
        {
          "output_type": "stream",
          "text": [
            "On branch update_readme\n",
            "nothing to commit, working tree clean\n",
            "Counting objects: 3, done.\n",
            "Delta compression using up to 2 threads.\n",
            "Compressing objects: 100% (3/3), done.\n",
            "Writing objects: 100% (3/3), 319 bytes | 319.00 KiB/s, done.\n",
            "Total 3 (delta 2), reused 0 (delta 0)\n",
            "remote: Resolving deltas: 100% (2/2), completed with 2 local objects.\u001b[K\n",
            "remote: \n",
            "remote: Create a pull request for 'update_readme' on GitHub by visiting:\u001b[K\n",
            "remote:      https://github.com/valshch/cvr_course/pull/new/update_readme\u001b[K\n",
            "remote: \n",
            "To https://github.com/valshch/cvr_course.git\n",
            " * [new branch]      update_readme -> update_readme\n"
          ],
          "name": "stdout"
        }
      ]
    },
    {
      "cell_type": "code",
      "metadata": {
        "id": "eIi8bZqKhagH",
        "outputId": "c4619dc0-aa28-43ff-8eb6-db2a590620ad",
        "colab": {
          "base_uri": "https://localhost:8080/",
          "height": 52
        }
      },
      "source": [
        "!git checkout develop"
      ],
      "execution_count": 40,
      "outputs": [
        {
          "output_type": "stream",
          "text": [
            "Branch 'develop' set up to track remote branch 'develop' from 'origin'.\n",
            "Switched to a new branch 'develop'\n"
          ],
          "name": "stdout"
        }
      ]
    },
    {
      "cell_type": "code",
      "metadata": {
        "id": "n2xKHLbEk4F6",
        "outputId": "2f38bf62-1309-4781-e621-59255b28d0ef",
        "colab": {
          "base_uri": "https://localhost:8080/",
          "height": 86
        }
      },
      "source": [
        "!git status\n"
      ],
      "execution_count": 41,
      "outputs": [
        {
          "output_type": "stream",
          "text": [
            "On branch develop\n",
            "Your branch is up to date with 'origin/develop'.\n",
            "\n",
            "nothing to commit, working tree clean\n"
          ],
          "name": "stdout"
        }
      ]
    },
    {
      "cell_type": "code",
      "metadata": {
        "id": "LxxvFyaOmmbv",
        "outputId": "ef08f646-c2fe-41e0-c51f-eb6091628cc1",
        "colab": {
          "base_uri": "https://localhost:8080/",
          "height": 34
        }
      },
      "source": [
        "!git merge update_readme"
      ],
      "execution_count": 47,
      "outputs": [
        {
          "output_type": "stream",
          "text": [
            "Already up to date.\n"
          ],
          "name": "stdout"
        }
      ]
    },
    {
      "cell_type": "code",
      "metadata": {
        "id": "8EDxEEzlpgfe",
        "outputId": "cae6164d-29c8-41e9-bbe3-66182f564625",
        "colab": {
          "base_uri": "https://localhost:8080/",
          "height": 69
        }
      },
      "source": [
        "!git push origin-psk2 develop"
      ],
      "execution_count": 51,
      "outputs": [
        {
          "output_type": "stream",
          "text": [
            "Total 0 (delta 0), reused 0 (delta 0)\n",
            "To https://github.com/valshch/cvr_course.git\n",
            "   d3444e1..e7ac8f0  develop -> develop\n"
          ],
          "name": "stdout"
        }
      ]
    },
    {
      "cell_type": "code",
      "metadata": {
        "id": "-7IZHXQPleJv",
        "outputId": "a112721a-05cf-4a0c-d0e2-f4c21a844275",
        "colab": {
          "base_uri": "https://localhost:8080/",
          "height": 104
        }
      },
      "source": [
        "!git status"
      ],
      "execution_count": 49,
      "outputs": [
        {
          "output_type": "stream",
          "text": [
            "On branch develop\n",
            "Your branch is ahead of 'origin/develop' by 3 commits.\n",
            "  (use \"git push\" to publish your local commits)\n",
            "\n",
            "nothing to commit, working tree clean\n"
          ],
          "name": "stdout"
        }
      ]
    },
    {
      "cell_type": "code",
      "metadata": {
        "id": "f_PyWJunpS6Z",
        "outputId": "101520aa-5d4d-4bde-967d-85292de6a2df",
        "colab": {
          "base_uri": "https://localhost:8080/",
          "height": 1000
        }
      },
      "source": [
        "!git log "
      ],
      "execution_count": 50,
      "outputs": [
        {
          "output_type": "stream",
          "text": [
            "\u001b[33mcommit e7ac8f059a37a9e6b4a43199067d39f3f00465a3\u001b[m\u001b[33m (\u001b[m\u001b[1;36mHEAD -> \u001b[m\u001b[1;32mdevelop\u001b[m\u001b[33m, \u001b[m\u001b[1;31morigin-psk2/update_readme\u001b[m\u001b[33m, \u001b[m\u001b[1;32mupdate_readme\u001b[m\u001b[33m)\u001b[m\n",
            "Author: Shcherbakova Valeriia <shherbakova.vs@phystech.edu>\n",
            "Date:   Fri Oct 16 17:47:06 2020 +0000\n",
            "\n",
            "    Update README.md\n",
            "\n",
            "\u001b[33mcommit 25a704d729a8b8add00910b97466882ab7fcc38a\u001b[m\u001b[33m (\u001b[m\u001b[1;31morigin/main\u001b[m\u001b[33m, \u001b[m\u001b[1;31morigin/HEAD\u001b[m\u001b[33m, \u001b[m\u001b[1;32mmain\u001b[m\u001b[33m)\u001b[m\n",
            "Merge: 73cd0db d3444e1\n",
            "Author: Ivan Khokhlov <khokhlov.iyu@gmail.com>\n",
            "Date:   Thu Oct 15 18:30:26 2020 +0300\n",
            "\n",
            "    Merge pull request #6 from StarkitRobots/develop\n",
            "    \n",
            "    Added second sem\n",
            "\n",
            "\u001b[33mcommit d3444e17ea6fe1d4e5ab7dde13d6e8123454fc8c\u001b[m\u001b[33m (\u001b[m\u001b[1;31morigin/develop\u001b[m\u001b[33m, \u001b[m\u001b[1;31morigin-psk2/develop\u001b[m\u001b[33m)\u001b[m\n",
            "Author: ar0usel <khohklov.iyu@gmail.com>\n",
            "Date:   Thu Oct 15 18:29:09 2020 +0300\n",
            "\n",
            "    Updating ball img for hw\n",
            "\n",
            "\u001b[33mcommit 23ad050b1f9c93e6021f25932148fdf10a7d2551\u001b[m\n",
            "Merge: a3801f9 00528b8\n",
            "Author: ar0usel <khohklov.iyu@gmail.com>\n",
            "Date:   Thu Oct 15 16:58:08 2020 +0300\n",
            "\n",
            "    Merge branch 'develop' of https://github.com/StarkitRobots/cvr_course into develop\n",
            "\n",
            "\u001b[33mcommit a3801f9019454e6ccb95be1a93db7843a8af3119\u001b[m\n",
            "Author: ar0usel <khohklov.iyu@gmail.com>\n",
            "Date:   Thu Oct 15 16:55:05 2020 +0300\n",
            "\n",
            "    Added second hw\n",
            "\n",
            "\u001b[33mcommit 73cd0db3f8646c3eef461c2591f13b2f7b2fa6dd\u001b[m\n",
            "Merge: 6d117b3 00528b8\n",
            "Author: Ivan Khokhlov <khokhlov.iyu@gmail.com>\n",
            "Date:   Wed Oct 14 15:45:55 2020 +0300\n",
            "\n",
            "    Merge pull request #5 from StarkitRobots/develop\n",
            "    \n",
            "    Second seminar\n",
            "\n",
            "\u001b[33mcommit 00528b81dfdb8b11f3908435a5cb9f207288216d\u001b[m\n",
            "Merge: 5020137 6d117b3\n",
            "Author: Ivan Khokhlov <khokhlov.iyu@gmail.com>\n",
            "Date:   Wed Oct 14 15:45:42 2020 +0300\n",
            "\n",
            "    Merge branch 'main' into develop\n",
            "\n",
            "\u001b[33mcommit 50201377d9f5cac8890d5f8e5df2698eec6009ab\u001b[m\n",
            "Author: ar0usel <khohklov.iyu@gmail.com>\n",
            "Date:   Thu Oct 8 22:19:25 2020 +0300\n",
            "\n",
            "    Refactored cv2_sem2\n",
            "\n",
            "\u001b[33mcommit 0623348b2b8ba0f5d27aaef559cde2ecc5d944cd\u001b[m\n",
            "Author: ar0usel <khohklov.iyu@gmail.com>\n",
            "Date:   Thu Oct 8 21:34:59 2020 +0300\n",
            "\n",
            "    Added draft of sem2 and data for it\n",
            "\n",
            "\u001b[33mcommit 6d117b375af9f6a484cbf3c2634069615c5e9360\u001b[m\n",
            "Author: Ivan Khokhlov <khokhlov.iyu@gmail.com>\n",
            "Date:   Thu Oct 8 14:45:35 2020 +0300\n",
            "\n",
            "    Fixed README misprint\n",
            "\n",
            "\u001b[33mcommit 6be22222380b41de00f4a4d97bb6674f543d8843\u001b[m\n",
            "Author: Khohklov Ivan <khohklov.iyu@gmail.com>\n",
            "Date:   Thu Oct 8 01:35:23 2020 +0300\n",
            "\n",
            "    Added grades for each task\n",
            "\n",
            "\u001b[33mcommit 7baa28160429bafff43da0eb51e3c467b353de79\u001b[m\n",
            "Author: Khohklov Ivan <khohklov.iyu@gmail.com>\n",
            "Date:   Thu Oct 8 01:16:26 2020 +0300\n",
            "\n",
            "    Fixed README.md\n",
            "\n",
            "\u001b[33mcommit a75ebbba847064604a030e7c6e3706b6189ea826\u001b[m\n",
            "Merge: a51ca1d bd1f9a5\n",
            "Author: Khohklov Ivan <khohklov.iyu@gmail.com>\n",
            "Date:   Thu Oct 8 01:15:40 2020 +0300\n",
            "\n",
            "    Merge branch 'main' of github.com:StarkitRobots/cvr_course into main\n",
            "\n",
            "\u001b[33mcommit a51ca1d345e501df81b207e1d6c05516f75a3b16\u001b[m\n",
            "Merge: aa8c4d4 662c7a1\n",
            "Author: Khohklov Ivan <khohklov.iyu@gmail.com>\n",
            "Date:   Thu Oct 8 01:13:41 2020 +0300\n",
            "\n",
            "    Merge branch 'develop' of github.com:StarkitRobots/cvr_course into develop\n",
            "\n",
            "\u001b[33mcommit aa8c4d4eae62e1485a53685a2e8710acfbce5f63\u001b[m\n",
            "Author: Khohklov Ivan <khohklov.iyu@gmail.com>\n",
            "Date:   Thu Oct 8 01:13:30 2020 +0300\n",
            "\n",
            "    Added git homework\n",
            "\n",
            "\u001b[33mcommit bd1f9a515c56c65c124165a7f58b4856e4dbd64d\u001b[m\n",
            "Merge: c4fcecc 662c7a1\n",
            "Author: Ivan Khokhlov <khokhlov.iyu@gmail.com>\n",
            "Date:   Wed Oct 7 21:11:47 2020 +0300\n",
            "\n",
            "    Merge pull request #4 from StarkitRobots/develop\n",
            "    \n",
            "    Develop\n",
            "\n",
            "\u001b[33mcommit 662c7a14619be226452731dbc01e6b947b45e513\u001b[m\n",
            "Merge: ded3ac3 69871ae\n",
            "Author: Ivan Khokhlov <khokhlov.iyu@gmail.com>\n",
            "Date:   Wed Oct 7 21:10:47 2020 +0300\n",
            "\n",
            "    Merge pull request #3 from ar0usel/develop\n",
            "    \n",
            "    Added all sem. code. Created using Colaboratory.\n",
            "\n",
            "\u001b[33mcommit 69871ae24968259550418afb66ae0b785da46e45\u001b[m\n",
            "Author: Ivan Khokhlov <khokhlov.iyu@gmail.com>\n",
            "Date:   Wed Oct 7 21:09:10 2020 +0300\n",
            "\n",
            "    Added all sem. code. Created using Colaboratory.\n",
            "\n",
            "\u001b[33mcommit ded3ac397de63acc9d925e9b58b4c560e9bc308b\u001b[m\n",
            "Merge: 6c4330d 1aaf855\n",
            "Author: Ivan Khokhlov <khokhlov.iyu@gmail.com>\n",
            "Date:   Wed Oct 7 21:06:12 2020 +0300\n",
            "\n",
            "    Merge pull request #2 from ar0usel/develop\n",
            "    \n",
            "    Develop\n",
            "\n",
            "\u001b[33mcommit 1aaf8557d58bb0b7457e7788dce32c9bb1b01900\u001b[m\n",
            "Merge: 6c4330d a997329\n",
            "Author: Ivan Khokhlov <khokhlov.iyu@gmail.com>\n",
            "Date:   Wed Oct 7 20:59:38 2020 +0300\n",
            "\n",
            "    Merge pull request #1 from ar0usel/test\n",
            "    \n",
            "    Test\n",
            "\n",
            "\u001b[33mcommit a99732942867949e765a8f688899fd0f05dc6438\u001b[m\n",
            "Author: Ivan Khokhlov <khokhlov.iyu@gmail.com>\n",
            "Date:   Wed Oct 7 17:56:32 2020 +0000\n",
            "\n",
            "    Update README.md\n",
            "\n",
            "\u001b[33mcommit 4fc1d291f39e32dacadcf2ef79216e6cb0657957\u001b[m\n",
            "Author: Ivan Khokhlov <khokhlov.iyu@gmail.com>\n",
            "Date:   Wed Oct 7 17:47:06 2020 +0000\n",
            "\n",
            "    Update README.md\n",
            "\n",
            "\u001b[33mcommit c4fceccc98d87555d89312c67e3a5dbb342882d3\u001b[m\n",
            "Merge: 74e20f9 6c4330d\n",
            "Author: Ivan Khokhlov <khokhlov.iyu@gmail.com>\n",
            "Date:   Wed Oct 7 15:41:01 2020 +0300\n",
            "\n",
            "    Merge pull request #1 from StarkitRobots/develop\n",
            "    \n",
            "    1 sem\n",
            "\n",
            "\u001b[33mcommit 6c4330d509d3311e842e4e1d10eae22b8ce0a5d1\u001b[m\n",
            "Author: Khohklov Ivan <khohklov.iyu@gmail.com>\n",
            "Date:   Wed Oct 7 15:39:58 2020 +0300\n",
            "\n",
            "    Clean code before 1 sem\n",
            "\n",
            "\u001b[33mcommit ffe4ee9a50323a2d2ea39cb524cf711f13f04b75\u001b[m\n",
            "Author: Khohklov Ivan <khohklov.iyu@gmail.com>\n",
            "Date:   Wed Oct 7 14:36:45 2020 +0300\n",
            "\n",
            "    Added colab notebooks\n",
            "\n",
            "\u001b[33mcommit 7c12accb74f79ddacd510e4f0240386e9eef5451\u001b[m\n",
            "Author: Khohklov Ivan <khohklov.iyu@gmail.com>\n",
            "Date:   Wed Oct 7 11:48:51 2020 +0300\n",
            "\n",
            "    Added draft of the first sem\n",
            "\n",
            "\u001b[33mcommit 74e20f9d8e19b0655123df111796de9dfae56bf5\u001b[m\n",
            "Author: Ivan Khokhlov <khokhlov.iyu@gmail.com>\n",
            "Date:   Tue Oct 6 22:19:42 2020 +0000\n",
            "\n",
            "    Update README.md\n",
            "\n",
            "\u001b[33mcommit be6fcb9cb029056ff49fa096461f4cc8cc2a818e\u001b[m\n",
            "Author: Khohklov Ivan <khohklov.iyu@gmail.com>\n",
            "Date:   Wed Oct 7 00:33:36 2020 +0300\n",
            "\n",
            "    Update README.md\n",
            "\n",
            "\u001b[33mcommit 536bc3bf7525d2532d7e8e2ded7f6dcc55493a57\u001b[m\n",
            "Author: Khohklov Ivan <khohklov.iyu@gmail.com>\n",
            "Date:   Tue Oct 6 16:25:44 2020 +0300\n",
            "\n",
            "    Update README\n",
            "\n",
            "\u001b[33mcommit 50bf2b2088bcbec8a66947b5caf8fd18904aa34c\u001b[m\n",
            "Author: Khohklov Ivan <khohklov.iyu@gmail.com>\n",
            "Date:   Tue Oct 6 16:08:08 2020 +0300\n",
            "\n",
            "    first commit\n"
          ],
          "name": "stdout"
        }
      ]
    },
    {
      "cell_type": "code",
      "metadata": {
        "id": "v_zA6DzhoFAz",
        "outputId": "ff6f2f3f-280f-4479-aa93-5e8ae2dda92c",
        "colab": {
          "base_uri": "https://localhost:8080/",
          "height": 1000
        }
      },
      "source": [
        "!git log --oneline --graph"
      ],
      "execution_count": 48,
      "outputs": [
        {
          "output_type": "stream",
          "text": [
            "* \u001b[33me7ac8f0\u001b[m\u001b[33m (\u001b[m\u001b[1;36mHEAD -> \u001b[m\u001b[1;32mdevelop\u001b[m\u001b[33m, \u001b[m\u001b[1;31morigin-psk2/update_readme\u001b[m\u001b[33m, \u001b[m\u001b[1;32mupdate_readme\u001b[m\u001b[33m)\u001b[m Update README.md\n",
            "*   \u001b[33m25a704d\u001b[m\u001b[33m (\u001b[m\u001b[1;31morigin/main\u001b[m\u001b[33m, \u001b[m\u001b[1;31morigin/HEAD\u001b[m\u001b[33m, \u001b[m\u001b[1;32mmain\u001b[m\u001b[33m)\u001b[m Merge pull request #6 from StarkitRobots/develop\n",
            "\u001b[32m|\u001b[m\u001b[33m\\\u001b[m  \n",
            "\u001b[32m|\u001b[m * \u001b[33md3444e1\u001b[m\u001b[33m (\u001b[m\u001b[1;31morigin/develop\u001b[m\u001b[33m, \u001b[m\u001b[1;31morigin-psk2/develop\u001b[m\u001b[33m)\u001b[m Updating ball img for hw\n",
            "\u001b[32m|\u001b[m *   \u001b[33m23ad050\u001b[m Merge branch 'develop' of https://github.com/StarkitRobots/cvr_course into develop\n",
            "\u001b[32m|\u001b[m \u001b[34m|\u001b[m\u001b[35m\\\u001b[m  \n",
            "\u001b[32m|\u001b[m * \u001b[35m|\u001b[m \u001b[33ma3801f9\u001b[m Added second hw\n",
            "* \u001b[35m|\u001b[m \u001b[35m|\u001b[m   \u001b[33m73cd0db\u001b[m Merge pull request #5 from StarkitRobots/develop\n",
            "\u001b[36m|\u001b[m\u001b[35m\\\u001b[m \u001b[35m\\\u001b[m \u001b[35m\\\u001b[m  \n",
            "\u001b[36m|\u001b[m \u001b[35m|\u001b[m \u001b[35m|\u001b[m\u001b[35m/\u001b[m  \n",
            "\u001b[36m|\u001b[m \u001b[35m|\u001b[m\u001b[35m/\u001b[m\u001b[35m|\u001b[m   \n",
            "\u001b[36m|\u001b[m * \u001b[35m|\u001b[m   \u001b[33m00528b8\u001b[m Merge branch 'main' into develop\n",
            "\u001b[36m|\u001b[m \u001b[35m|\u001b[m\u001b[36m\\\u001b[m \u001b[35m\\\u001b[m  \n",
            "\u001b[36m|\u001b[m \u001b[35m|\u001b[m\u001b[36m/\u001b[m \u001b[35m/\u001b[m  \n",
            "\u001b[36m|\u001b[m\u001b[36m/\u001b[m\u001b[35m|\u001b[m \u001b[35m/\u001b[m   \n",
            "\u001b[36m|\u001b[m \u001b[35m|\u001b[m\u001b[35m/\u001b[m    \n",
            "* \u001b[35m|\u001b[m \u001b[33m6d117b3\u001b[m Fixed README misprint\n",
            "* \u001b[35m|\u001b[m \u001b[33m6be2222\u001b[m Added grades for each task\n",
            "* \u001b[35m|\u001b[m \u001b[33m7baa281\u001b[m Fixed README.md\n",
            "* \u001b[35m|\u001b[m   \u001b[33ma75ebbb\u001b[m Merge branch 'main' of github.com:StarkitRobots/cvr_course into main\n",
            "\u001b[1;34m|\u001b[m\u001b[1;35m\\\u001b[m \u001b[35m\\\u001b[m  \n",
            "\u001b[1;34m|\u001b[m * \u001b[35m\\\u001b[m   \u001b[33mbd1f9a5\u001b[m Merge pull request #4 from StarkitRobots/develop\n",
            "\u001b[1;34m|\u001b[m \u001b[1;36m|\u001b[m\u001b[31m\\\u001b[m \u001b[35m\\\u001b[m  \n",
            "\u001b[1;34m|\u001b[m \u001b[1;36m|\u001b[m \u001b[31m|\u001b[m * \u001b[33m5020137\u001b[m Refactored cv2_sem2\n",
            "\u001b[1;34m|\u001b[m \u001b[1;36m|\u001b[m \u001b[31m|\u001b[m * \u001b[33m0623348\u001b[m Added draft of sem2 and data for it\n",
            "\u001b[1;34m|\u001b[m \u001b[1;36m|\u001b[m\u001b[1;34m_\u001b[m\u001b[31m|\u001b[m\u001b[1;34m/\u001b[m  \n",
            "\u001b[1;34m|\u001b[m\u001b[1;34m/\u001b[m\u001b[1;36m|\u001b[m \u001b[31m|\u001b[m   \n",
            "* \u001b[1;36m|\u001b[m \u001b[31m|\u001b[m   \u001b[33ma51ca1d\u001b[m Merge branch 'develop' of github.com:StarkitRobots/cvr_course into develop\n",
            "\u001b[32m|\u001b[m\u001b[31m\\\u001b[m \u001b[1;36m\\\u001b[m \u001b[31m\\\u001b[m  \n",
            "\u001b[32m|\u001b[m \u001b[31m|\u001b[m \u001b[1;36m|\u001b[m\u001b[31m/\u001b[m  \n",
            "\u001b[32m|\u001b[m \u001b[31m|\u001b[m\u001b[31m/\u001b[m\u001b[1;36m|\u001b[m   \n",
            "\u001b[32m|\u001b[m * \u001b[1;36m|\u001b[m   \u001b[33m662c7a1\u001b[m Merge pull request #3 from ar0usel/develop\n",
            "\u001b[32m|\u001b[m \u001b[34m|\u001b[m\u001b[35m\\\u001b[m \u001b[1;36m\\\u001b[m  \n",
            "\u001b[32m|\u001b[m \u001b[34m|\u001b[m * \u001b[1;36m|\u001b[m \u001b[33m69871ae\u001b[m Added all sem. code. Created using Colaboratory.\n",
            "\u001b[32m|\u001b[m * \u001b[35m|\u001b[m \u001b[1;36m|\u001b[m   \u001b[33mded3ac3\u001b[m Merge pull request #2 from ar0usel/develop\n",
            "\u001b[32m|\u001b[m \u001b[36m|\u001b[m\u001b[35m\\\u001b[m \u001b[35m\\\u001b[m \u001b[1;36m\\\u001b[m  \n",
            "\u001b[32m|\u001b[m \u001b[36m|\u001b[m \u001b[35m|\u001b[m\u001b[35m/\u001b[m \u001b[1;36m/\u001b[m  \n",
            "\u001b[32m|\u001b[m \u001b[36m|\u001b[m * \u001b[1;36m|\u001b[m   \u001b[33m1aaf855\u001b[m Merge pull request #1 from ar0usel/test\n",
            "\u001b[32m|\u001b[m \u001b[36m|\u001b[m \u001b[36m|\u001b[m\u001b[1;33m\\\u001b[m \u001b[1;36m\\\u001b[m  \n",
            "\u001b[32m|\u001b[m \u001b[36m|\u001b[m\u001b[36m/\u001b[m \u001b[1;33m/\u001b[m \u001b[1;36m/\u001b[m  \n",
            "\u001b[32m|\u001b[m \u001b[36m|\u001b[m * \u001b[1;36m|\u001b[m \u001b[33ma997329\u001b[m Update README.md\n",
            "\u001b[32m|\u001b[m \u001b[36m|\u001b[m * \u001b[1;36m|\u001b[m \u001b[33m4fc1d29\u001b[m Update README.md\n",
            "\u001b[32m|\u001b[m \u001b[36m|\u001b[m \u001b[1;36m|\u001b[m\u001b[1;36m/\u001b[m  \n",
            "\u001b[32m|\u001b[m \u001b[36m|\u001b[m *   \u001b[33mc4fcecc\u001b[m Merge pull request #1 from StarkitRobots/develop\n",
            "\u001b[32m|\u001b[m \u001b[36m|\u001b[m \u001b[1;34m|\u001b[m\u001b[36m\\\u001b[m  \n",
            "\u001b[32m|\u001b[m \u001b[36m|\u001b[m \u001b[1;34m|\u001b[m\u001b[36m/\u001b[m  \n",
            "\u001b[32m|\u001b[m \u001b[36m|\u001b[m\u001b[36m/\u001b[m\u001b[1;34m|\u001b[m   \n",
            "* \u001b[36m|\u001b[m \u001b[1;34m|\u001b[m \u001b[33maa8c4d4\u001b[m Added git homework\n",
            "\u001b[36m|\u001b[m\u001b[36m/\u001b[m \u001b[1;34m/\u001b[m  \n",
            "* \u001b[1;34m|\u001b[m \u001b[33m6c4330d\u001b[m Clean code before 1 sem\n",
            "* \u001b[1;34m|\u001b[m \u001b[33mffe4ee9\u001b[m Added colab notebooks\n",
            "* \u001b[1;34m|\u001b[m \u001b[33m7c12acc\u001b[m Added draft of the first sem\n",
            "\u001b[1;34m|\u001b[m\u001b[1;34m/\u001b[m  \n",
            "* \u001b[33m74e20f9\u001b[m Update README.md\n",
            "* \u001b[33mbe6fcb9\u001b[m Update README.md\n",
            "* \u001b[33m536bc3b\u001b[m Update README\n",
            "* \u001b[33m50bf2b2\u001b[m first commit\n"
          ],
          "name": "stdout"
        }
      ]
    },
    {
      "cell_type": "code",
      "metadata": {
        "id": "xIG5RcgSo0uA"
      },
      "source": [
        ""
      ],
      "execution_count": null,
      "outputs": []
    }
  ]
}